{
 "cells": [
  {
   "cell_type": "markdown",
   "source": [
    "## Course examples"
   ],
   "metadata": {
    "collapsed": false
   }
  },
  {
   "cell_type": "code",
   "execution_count": null,
   "outputs": [],
   "source": [
    "# Course example 1\n",
    "for i in range(1, 10):\n",
    "    for j in range(1, 10):\n",
    "        x = i * j\n",
    "        print(x, end=' ');\n",
    "    print()"
   ],
   "metadata": {
    "collapsed": false
   }
  },
  {
   "cell_type": "code",
   "execution_count": null,
   "outputs": [],
   "source": [
    "# Course example 2\n",
    "numbers = [31, 53, 775, 85, 27, 93, 63, 19]\n",
    "for num in numbers:\n",
    "    if num % 2 == 0:\n",
    "        print('Data contain even numbers')\n",
    "        break\n",
    "else:\n",
    "    print('Data have no even numbers')"
   ],
   "metadata": {
    "collapsed": false
   }
  },
  {
   "cell_type": "markdown",
   "source": [
    "Some experiments"
   ],
   "metadata": {
    "collapsed": false
   }
  },
  {
   "cell_type": "code",
   "execution_count": null,
   "outputs": [],
   "source": [
    "for idx, foo, bar in enumerate(zip(range(4, 87), range(9, 87))):\n",
    "    ..."
   ],
   "metadata": {
    "collapsed": false
   }
  },
  {
   "cell_type": "code",
   "execution_count": null,
   "outputs": [],
   "source": [
    "def a():\n",
    "    yield 5\n",
    "\n",
    "g = a()\n",
    "\n",
    "next(g)"
   ],
   "metadata": {
    "collapsed": false
   }
  },
  {
   "cell_type": "code",
   "execution_count": null,
   "outputs": [],
   "source": [
    "name = '123'\n",
    "\n",
    "class Foo:\n",
    "    def __getitem__(self, item):\n",
    "        print(item)\n",
    "    def __len__(self):\n",
    "        return 5\n",
    "\n",
    "a = Foo()\n",
    "a[::]"
   ],
   "metadata": {
    "collapsed": false
   }
  },
  {
   "cell_type": "code",
   "execution_count": null,
   "outputs": [],
   "source": [
    "\"abc\".count(1)"
   ],
   "metadata": {
    "collapsed": false
   }
  },
  {
   "cell_type": "code",
   "execution_count": null,
   "outputs": [],
   "source": [
    "type(sorted([1,2,3]))\n",
    "# Reversed is a generator\n",
    "type(reversed([1,2,3]))"
   ],
   "metadata": {
    "collapsed": false
   }
  },
  {
   "cell_type": "markdown",
   "source": [
    "List comprehensions"
   ],
   "metadata": {
    "collapsed": false
   }
  },
  {
   "cell_type": "code",
   "execution_count": null,
   "outputs": [],
   "source": [
    "[a[0] if a[0]%2==0 else a[0]+b for idx, a in enumerate(zip(range(3), range(5))) for b in range(3) if 1]"
   ],
   "metadata": {
    "collapsed": false
   }
  },
  {
   "cell_type": "code",
   "execution_count": null,
   "outputs": [],
   "source": [
    "{a: a+1 for a in range(10)}"
   ],
   "metadata": {
    "collapsed": false
   }
  }
 ],
 "metadata": {
  "kernelspec": {
   "display_name": "Python 3",
   "language": "python",
   "name": "python3"
  },
  "language_info": {
   "codemirror_mode": {
    "name": "ipython",
    "version": 2
   },
   "file_extension": ".py",
   "mimetype": "text/x-python",
   "name": "python",
   "nbconvert_exporter": "python",
   "pygments_lexer": "ipython2",
   "version": "2.7.6"
  }
 },
 "nbformat": 4,
 "nbformat_minor": 0
}
